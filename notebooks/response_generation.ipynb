{
 "cells": [
  {
   "cell_type": "code",
   "execution_count": 3,
   "id": "39506f7b-8db6-46c4-bafb-1c6b4083861f",
   "metadata": {},
   "outputs": [],
   "source": [
    "from dotenv import load_dotenv\n",
    "import os\n",
    "import sys\n",
    "sys.path.append(\"..\")"
   ]
  },
  {
   "cell_type": "code",
   "execution_count": 4,
   "id": "e38a1825-db60-4009-8629-f3da7fe069eb",
   "metadata": {},
   "outputs": [
    {
     "data": {
      "text/plain": [
       "True"
      ]
     },
     "execution_count": 4,
     "metadata": {},
     "output_type": "execute_result"
    }
   ],
   "source": [
    "load_dotenv()"
   ]
  },
  {
   "cell_type": "code",
   "execution_count": 5,
   "id": "caa493ec-396c-4dd1-87de-a9b0a4f6a7c4",
   "metadata": {},
   "outputs": [
    {
     "name": "stderr",
     "output_type": "stream",
     "text": [
      "/data/minhdq1/anaconda3/envs/banner_training/lib/python3.9/site-packages/tqdm/auto.py:21: TqdmWarning: IProgress not found. Please update jupyter and ipywidgets. See https://ipywidgets.readthedocs.io/en/stable/user_install.html\n",
      "  from .autonotebook import tqdm as notebook_tqdm\n"
     ]
    },
    {
     "name": "stdout",
     "output_type": "stream",
     "text": [
      "2025-04-17 10:30:12,414 | \u001b[32mINFO\u001b[0m | nl-to-sparql | Logging initialized: console=INFO, file=DEBUG\n"
     ]
    }
   ],
   "source": [
    "from langchain_openai import ChatOpenAI\n",
    "from langchain_core.prompts import ChatPromptTemplate\n",
    "from langchain.output_parsers import ResponseSchema\n",
    "from langchain.output_parsers import StructuredOutputParser\n",
    "from database.qdrant_client import QdrantClient\n",
    "from typing import List, Dict, Any, Optional\n",
    "import json"
   ]
  },
  {
   "cell_type": "code",
   "execution_count": 4,
   "id": "bd2617e5-63eb-4ca1-a3b1-2e1393d6d6cd",
   "metadata": {},
   "outputs": [],
   "source": [
    "# llm = ChatOpenAI(\n",
    "#     model=\"gpt-4o-mini\",\n",
    "#     temperature=0.\n",
    "# )"
   ]
  },
  {
   "cell_type": "code",
   "execution_count": 5,
   "id": "4ad22997-43af-4065-81f8-546e30644746",
   "metadata": {},
   "outputs": [],
   "source": [
    "# prompt = ChatPromptTemplate.from_messages([\n",
    "#     (\"system\", \n",
    "#      \"\"\"You are a professional developer with experience in writing SPARQL for ontology file. Your task is to transform natural provided query to SPARQL based on the ontology code and previous SPARQL code (optional). Please follow the detailed instruction below:\n",
    "#      - If query related to computation, first convert the value to string by STR and then convert to number\n",
    "#      - If can not convert the query to SPARQL, the output is {{\"query\": \"\", \"step\": \"query of that step\"}}\n",
    "#      **Provided query**:\n",
    "#      {query}\n",
    "#      **Ontology code**:\n",
    "#      {ontology_code}\n",
    "#      {sparql_code}\n",
    "#      The output format must be in the following format:\n",
    "#      {{\"query\": \"SPARQL query\", \"step\": \"query of that step\"}}\n",
    "#      \"\"\"\n",
    "#     )\n",
    "# ])\n",
    "\n",
    "# # Định nghĩa input\n",
    "# user_query = \"Tìm thời gian bắt đầu của triều đại Triệu?\"\n",
    "# feedback = \"[]\"\n",
    "\n",
    "# # Format ra danh sách message\n",
    "# messages = prompt.format_messages(query=user_query, ontology_code=\"\"\"<!-- https://CHeVIE.vn/ontologies/TrieuRulingDynastyStartDate -->\\n\\n    <owl:NamedIndividual rdf:about=\"https://CHeVIE.vn/ontologies/TrieuRulingDynastyStartDate\">\\n        <rdf:type rdf:resource=\"http://www.w3.org/2006/time#Instant\"/>\\n        <time:inDateTime rdf:resource=\"https://CHeVIE.vn/ontologies/TrieuRulingDynastyStartDateDescription\"/>\\n        <rdfs:label xml:lang=\"en\">Start Date of Triệu Ruling Dynasty</rdfs:label>\\n    \\t<rdfs:label xml:lang=\"vi\">Ngày bắt đầu triều đại Triệu</rdfs:label>\\n    </owl:NamedIndividual><!-- https://CHeVIE.vn/ontologies/TrieuRulingDynastyStartDateDescription -->\\n\\n    <owl:NamedIndividual rdf:about=\"https://CHeVIE.vn/ontologies/TrieuRulingDynastyStartDateDescription\">\\n        <rdf:type rdf:resource=\"http://www.w3.org/2006/time#DateTimeDescription\"/>\\n        <time:hasTRS rdf:resource=\"https://CHeVIE.vn/ontologies/GregorianCalendar\"/>\\n        <time:year rdf:datatype=\"http://www.w3.org/2001/XMLSchema#gYear\">-210</time:year>\\n        <rdfs:label xml:lang=\"en\">Start Date of Triệu Ruling Dynasty Description</rdfs:label>\\n    \\t<rdfs:label xml:lang=\"vi\">Mô tả ngày bắt đầu triều đại Triệu</rdfs:label>\\n    </owl:NamedIndividual><!-- https://CHeVIE.vn/ontologies/TrieuRulingDynastyStartDateStatement -->\\n\\n    <owl:NamedIndividual rdf:about=\"https://CHeVIE.vn/ontologies/TrieuRulingDynastyStartDateStatement\">\\n        <rdf:type rdf:resource=\"https://CHeVIE.vn/ontologies/Statement\"/>\\n        <_start rdf:resource=\"https://CHeVIE.vn/ontologies/TrieuRulingDynastyStartDate\"/>\\n        <prov:wasDerivedFrom rdf:resource=\"https://CHeVIE.vn/ontologies/TrieuRulingDynastyPeriodReference\"/>\\n        <rdfs:label xml:lang=\"en\">Statement about Start Date of Triệu Ruling Dynasty</rdfs:label>\\n    \\t<rdfs:label xml:lang=\"vi\">Tuyên bố về ngày bắt đầu triều đại Triệu</rdfs:label>\\n    </owl:NamedIndividual>\"\"\")"
   ]
  },
  {
   "cell_type": "code",
   "execution_count": 6,
   "id": "80b61311-826a-4b2c-9fa5-63ea378b778f",
   "metadata": {},
   "outputs": [],
   "source": [
    "# ans = llm.invoke(messages)"
   ]
  },
  {
   "cell_type": "code",
   "execution_count": 7,
   "id": "912f9b53-6a71-4a86-94dd-304618ea4683",
   "metadata": {},
   "outputs": [],
   "source": [
    "# ans.content"
   ]
  },
  {
   "cell_type": "code",
   "execution_count": 6,
   "id": "88429403-3d84-4c37-8715-70e4d0293bd4",
   "metadata": {},
   "outputs": [],
   "source": [
    "class ResponseGenerationAgent:\n",
    "    def __init__(self):\n",
    "        \"\"\"\n",
    "        Initialize the response generation agent\n",
    "        \"\"\"\n",
    "\n",
    "        self.agent = ChatOpenAI(\n",
    "            model=\"gpt-4o-mini\",\n",
    "            temperature=0.\n",
    "        )\n",
    "\n",
    "        self.qdrant_client = QdrantClient()\n",
    "    \n",
    "        self.num_retry = 2\n",
    "        self.top_k = 3\n",
    "        self.collection_name = \"ontology_embedding\"\n",
    "\n",
    "    def generate(self, steps: List[Dict[str, Any]]):\n",
    "        if not steps:\n",
    "            return \"I'm sorry, I couldn't generate a proper response based on the information avalable\"\n",
    "\n",
    "        previous_queries = []\n",
    "        \n",
    "        for step in steps:\n",
    "            prompt = self._prepare_step_prompt(\n",
    "                step_query=step[\"step\"],\n",
    "                step_query_type=step[\"sparql_type\"],\n",
    "                previous_queries=previous_queries if step[\"level\"] == \"complex\" else None\n",
    "            ) \n",
    "            step_query = self.agent.invoke(prompt)\n",
    "            step_query = json.loads(step_query.content)\n",
    "            previous_queries.append(step_query)\n",
    "\n",
    "        return previous_queries\n",
    "\n",
    "    def _prepare_step_prompt(self, step_query: str, step_query_type: str, previous_queries: Optional[List[Dict[str, Any]]]=None):\n",
    "        prompt = ChatPromptTemplate.from_messages([\n",
    "            (\"system\", \n",
    "             \"\"\"You are a professional developer with experience in writing SPARQL for ontology file. Your task is to transform natural provided query to SPARQL based on the ontology code, query type. Please follow the detailed instruction below:\n",
    "             - If query related to computation or compare, first convert the value to string by STR and then convert to number. \n",
    "             - Please query number correctly not rdfs:label or rdfs:comment\n",
    "             - If query need to find the numeric, please convert to get exactly number not reference\n",
    "             - If can not convert the query to SPARQL, the output is {{\"query\": \"\", \"step\": \"query of that step\"}}\n",
    "             **Output SPARQL type**:\n",
    "             {sparql_type}\n",
    "             **Provided query**:\n",
    "             {query}\n",
    "             **Ontology code**:\n",
    "             {ontology_code}\n",
    "             {sparql_code}\n",
    "             The output format must be in the following format:\n",
    "             {{\"query\": \"SPARQL query\", \"step\": \"query of that step\"}}\n",
    "             \"\"\"\n",
    "            )\n",
    "        ])\n",
    "        if previous_queries is None:\n",
    "            sparql_code = \"\"\n",
    "        else:\n",
    "            sparql_code = \"**SparQL code**:\\n\" + str(previous_queries)\n",
    "\n",
    "        ontology_code = self._get_code_part(step_query)\n",
    "\n",
    "        return prompt.format_messages(\n",
    "            sparql_type=step_query_type,\n",
    "            query=step_query,\n",
    "            ontology_code=ontology_code,\n",
    "            sparql_code=sparql_code\n",
    "        )\n",
    "\n",
    "    def _get_code_part(self, step_query: str) -> str:\n",
    "        \"\"\"\n",
    "        Search code part in ontology for step query\n",
    "\n",
    "        Args:\n",
    "            step_query: str: query for each step\n",
    "\n",
    "        Returns:\n",
    "            Part of ontology related to step query\n",
    "        \"\"\"\n",
    "        search_results = self.qdrant_client.client.query_points(\n",
    "            collection_name=self.collection_name,\n",
    "            query=self.qdrant_client.default_model.encode(step_query),\n",
    "            limit=self.top_k\n",
    "        ).points\n",
    "\n",
    "        code_part = \"\"\n",
    "        for search_result in search_results:\n",
    "            code_part += search_result.payload[\"code\"].strip()\n",
    "        code_part = code_part.strip()\n",
    "        return code_part"
   ]
  },
  {
   "cell_type": "code",
   "execution_count": 7,
   "id": "fae8a077-7adb-43c8-b47e-a2fa06a2debc",
   "metadata": {},
   "outputs": [
    {
     "name": "stdout",
     "output_type": "stream",
     "text": [
      "2025-04-17 10:30:17,600 | \u001b[32mINFO\u001b[0m | sentence_transformers.SentenceTransformer | Use pytorch device_name: cuda:0\n",
      "2025-04-17 10:30:17,602 | \u001b[32mINFO\u001b[0m | sentence_transformers.SentenceTransformer | Load pretrained SentenceTransformer: all-MiniLM-L6-v2\n",
      "2025-04-17 10:30:23,973 | \u001b[32mINFO\u001b[0m | httpx | HTTP Request: GET http://172.26.33.199:2513 \"HTTP/1.1 200 OK\"\n"
     ]
    }
   ],
   "source": [
    "generator = ResponseGenerationAgent()"
   ]
  },
  {
   "cell_type": "code",
   "execution_count": 8,
   "id": "399d7124-6d74-4ed6-b189-bfe6f8451ab5",
   "metadata": {},
   "outputs": [],
   "source": [
    "steps =  [{'step': 'Tìm thời gian bắt đầu của triều đại Triệu',\n",
    "  'sparql_type': 'SELECT',\n",
    "  'level': 'simple'},\n",
    " {'step': 'Find the end date of Triệu Ruling Dynasty',\n",
    "  'sparql_type': 'SELECT',\n",
    "  'level': 'simple'},\n",
    " {'step': 'Tính khoảng thời gian giữa thời gian bắt đầu và thời gian kết thúc',\n",
    "  'sparql_type': 'SELECT',\n",
    "  'level': 'complex'}]"
   ]
  },
  {
   "cell_type": "code",
   "execution_count": 9,
   "id": "7374b431-5677-4757-97b6-65569deea9db",
   "metadata": {},
   "outputs": [],
   "source": [
    "steps = [{'step': 'Kiểm tra thời gian mất của Vua Quang Trung',\n",
    "  'sparql_type': 'SELECT',\n",
    "  'level': 'simple'},\n",
    " {'step': 'Kiểm tra thời gian ra đời của triều đại Triệu',\n",
    "  'sparql_type': 'SELECT',\n",
    "  'level': 'simple'},\n",
    " {'step': 'So sánh thời gian mất của Vua Quang Trung với thời gian ra đời của triều đại Triệu',\n",
    "  'sparql_type': 'ASK',\n",
    "  'level': 'complex'}]"
   ]
  },
  {
   "cell_type": "code",
   "execution_count": 10,
   "id": "035da265-6df1-4bc7-8c31-98d8008918a1",
   "metadata": {},
   "outputs": [],
   "source": [
    "steps = [{'step': 'Find the starting year of the Triệu dynasty',\n",
    "  'sparql_type': 'SELECT',\n",
    "  'level': 'simple'}]"
   ]
  },
  {
   "cell_type": "code",
   "execution_count": 13,
   "id": "851d8ddb-d6c7-4091-bbf8-81fdf08b1113",
   "metadata": {},
   "outputs": [],
   "source": [
    "steps = [{'step': 'Find all subclasses of Person',\n",
    "  'sparql_type': 'SELECT',\n",
    "  'level': 'simple'}]"
   ]
  },
  {
   "cell_type": "code",
   "execution_count": 14,
   "id": "71399225-df65-4720-b839-ffb0f23b2203",
   "metadata": {
    "scrolled": true
   },
   "outputs": [
    {
     "name": "stderr",
     "output_type": "stream",
     "text": [
      "Batches: 100%|████████████████████████████████████████████████████████████████████████████████████████████████████████████████████████████████████████████████████████████████████████████████████████| 1/1 [00:00<00:00, 38.14it/s]"
     ]
    },
    {
     "name": "stdout",
     "output_type": "stream",
     "text": [
      "2025-04-17 10:36:07,248 | \u001b[32mINFO\u001b[0m | httpx | HTTP Request: POST http://172.26.33.199:2513/collections/ontology_embedding/points/query \"HTTP/1.1 200 OK\"\n"
     ]
    },
    {
     "name": "stderr",
     "output_type": "stream",
     "text": [
      "\n"
     ]
    },
    {
     "name": "stdout",
     "output_type": "stream",
     "text": [
      "2025-04-17 10:36:08,798 | \u001b[32mINFO\u001b[0m | httpx | HTTP Request: POST https://api.openai.com/v1/chat/completions \"HTTP/1.1 200 OK\"\n"
     ]
    }
   ],
   "source": [
    "ans = generator.generate(steps)"
   ]
  },
  {
   "cell_type": "code",
   "execution_count": 15,
   "id": "7ac1d955-769d-484c-83b3-b8b38e41c51f",
   "metadata": {},
   "outputs": [
    {
     "data": {
      "text/plain": [
       "[{'query': 'SELECT ?subclass WHERE { ?subclass rdfs:subClassOf <https://CHeVIE.vn/ontologies/Person> . }',\n",
       "  'step': 'Find all subclasses of Person'}]"
      ]
     },
     "execution_count": 15,
     "metadata": {},
     "output_type": "execute_result"
    }
   ],
   "source": [
    "ans"
   ]
  },
  {
   "cell_type": "code",
   "execution_count": null,
   "id": "8bfeb5df-c36d-4f0f-83bc-5a4a824d9f1d",
   "metadata": {},
   "outputs": [],
   "source": []
  }
 ],
 "metadata": {
  "kernelspec": {
   "display_name": "Python 3 (ipykernel)",
   "language": "python",
   "name": "python3"
  },
  "language_info": {
   "codemirror_mode": {
    "name": "ipython",
    "version": 3
   },
   "file_extension": ".py",
   "mimetype": "text/x-python",
   "name": "python",
   "nbconvert_exporter": "python",
   "pygments_lexer": "ipython3",
   "version": "3.9.7"
  }
 },
 "nbformat": 4,
 "nbformat_minor": 5
}
