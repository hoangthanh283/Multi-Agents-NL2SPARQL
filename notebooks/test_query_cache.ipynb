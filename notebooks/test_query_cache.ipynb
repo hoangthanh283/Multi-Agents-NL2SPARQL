{
 "cells": [
  {
   "cell_type": "code",
   "execution_count": 1,
   "id": "897ceeb3-218a-4219-bba9-770bb7cf68d0",
   "metadata": {
    "tags": []
   },
   "outputs": [],
   "source": [
    "import sys\n",
    "sys.path.append(\"..\")"
   ]
  },
  {
   "cell_type": "code",
   "execution_count": 2,
   "id": "0355de0b-4985-4d99-ad34-31f19e417945",
   "metadata": {
    "tags": []
   },
   "outputs": [],
   "source": [
    "from caches.query_cache import SPARQLQueryCache, ConstructionQueryCache"
   ]
  },
  {
   "cell_type": "code",
   "execution_count": 3,
   "id": "c39ec20d-7998-4711-8afb-2e4cd218f531",
   "metadata": {
    "tags": []
   },
   "outputs": [],
   "source": [
    "con_query_cache = ConstructionQueryCache(\n",
    "    redis_host=\"localhost\",\n",
    "    redis_port=6379,\n",
    "    redis_ttl=15*60,\n",
    "    es_host=\"localhost\",\n",
    "    es_port=9200,\n",
    "    es_index=\"query_cache\",\n",
    "    similarity_threshold=0.7\n",
    ")"
   ]
  },
  {
   "cell_type": "code",
   "execution_count": 4,
   "id": "d16d6d91-1a0c-4fbf-a9be-7eda8599118f",
   "metadata": {
    "tags": []
   },
   "outputs": [
    {
     "name": "stderr",
     "output_type": "stream",
     "text": [
      "\u001b[32m2025-04-27 13:00:21.323\u001b[0m | \u001b[1mINFO    \u001b[0m | \u001b[36mcaches.query_cache\u001b[0m:\u001b[36msearch\u001b[0m:\u001b[36m94\u001b[0m - \u001b[1mRedis cache hit\u001b[0m\n"
     ]
    },
    {
     "data": {
      "text/plain": [
       "{'sparql': 'sparql_query',\n",
       " 'query_type': 'query_type',\n",
       " 'template_based': False,\n",
       " 'llm_generated': False,\n",
       " 'entities_used': []}"
      ]
     },
     "execution_count": 4,
     "metadata": {},
     "output_type": "execute_result"
    }
   ],
   "source": [
    "con_query_cache.search(\n",
    "    \"Ngày sinh của vua Quang Trung là ngày nào\".lower(), \"cache:query:\")"
   ]
  },
  {
   "cell_type": "code",
   "execution_count": 5,
   "id": "2275ed5e-1914-4d6c-a564-0b928325e94f",
   "metadata": {
    "tags": []
   },
   "outputs": [],
   "source": [
    "con_query_cache.save(\n",
    "    \"Ngày sinh của vua Quang Trung là ngày nào\", \"cache:query:\",\n",
    "    {\n",
    "        \"sparql\": \"sparql_query\",\n",
    "        \"query_type\": \"query_type\",\n",
    "        \"template_based\": False,\n",
    "        \"llm_generated\": True,\n",
    "        \"entities_used\": []\n",
    "    }\n",
    ")"
   ]
  },
  {
   "cell_type": "code",
   "execution_count": 6,
   "id": "c2da2062-671e-4ca3-a26c-290068f2e48d",
   "metadata": {
    "tags": []
   },
   "outputs": [
    {
     "name": "stderr",
     "output_type": "stream",
     "text": [
      "\u001b[32m2025-04-27 13:00:21.426\u001b[0m | \u001b[1mINFO    \u001b[0m | \u001b[36mcaches.query_cache\u001b[0m:\u001b[36msearch\u001b[0m:\u001b[36m94\u001b[0m - \u001b[1mRedis cache hit\u001b[0m\n"
     ]
    },
    {
     "data": {
      "text/plain": [
       "{'sparql': 'sparql_query',\n",
       " 'query_type': 'query_type',\n",
       " 'template_based': False,\n",
       " 'llm_generated': False,\n",
       " 'entities_used': []}"
      ]
     },
     "execution_count": 6,
     "metadata": {},
     "output_type": "execute_result"
    }
   ],
   "source": [
    "con_query_cache.search(\n",
    "    \"Ngày sinh của vua Quang Trung là ngày nào\".lower(), \"cache:query:\")"
   ]
  },
  {
   "cell_type": "code",
   "execution_count": 7,
   "id": "d052327a-da56-47f4-ad6c-a3ce54e4fa5a",
   "metadata": {
    "tags": []
   },
   "outputs": [],
   "source": [
    "sparql_cache = SPARQLQueryCache(\n",
    "    redis_host=\"localhost\",\n",
    "    redis_port=6379,\n",
    "    redis_ttl=15*60\n",
    ")"
   ]
  },
  {
   "cell_type": "code",
   "execution_count": 8,
   "id": "9825b226-b5ed-4a12-991f-f6f6dde5f2a0",
   "metadata": {
    "tags": []
   },
   "outputs": [],
   "source": [
    "query = \"\"\"PREFIX rdf: <http://www.w3.org/1999/02/22-rdf-syntax-ns#>\n",
    "PREFIX rdfs: <http://www.w3.org/2000/01/rdf-schema#>\n",
    "PREFIX owl: <http://www.w3.org/2002/07/owl#>\n",
    "PREFIX xsd: <http://www.w3.org/2001/XMLSchema#>\n",
    "\n",
    "SELECT ?deathDate WHERE {\n",
    "    ?instance rdfs:label \"Quang Trung\" .\n",
    "    ?instance <http://example.org/ontology/deathDate> ?deathDate .\n",
    "}\"\"\""
   ]
  },
  {
   "cell_type": "code",
   "execution_count": 9,
   "id": "6ff0f4c5-e9db-4ece-97de-99805227c5e2",
   "metadata": {
    "tags": []
   },
   "outputs": [
    {
     "name": "stderr",
     "output_type": "stream",
     "text": [
      "\u001b[32m2025-04-27 13:00:21.519\u001b[0m | \u001b[1mINFO    \u001b[0m | \u001b[36mcaches.query_cache\u001b[0m:\u001b[36msearch\u001b[0m:\u001b[36m39\u001b[0m - \u001b[1mRedis cache hit\u001b[0m\n"
     ]
    },
    {
     "data": {
      "text/plain": [
       "{'success': True,\n",
       " 'execution_time': 0,\n",
       " 'endpoint': 'test',\n",
       " 'query_size': 340,\n",
       " 'timestamp': '2025-04-27 12:55:58',\n",
       " 'results': {'format': 'unknown', 'data': 'test', 'info': 'Raw results'}}"
      ]
     },
     "execution_count": 9,
     "metadata": {},
     "output_type": "execute_result"
    }
   ],
   "source": [
    "sparql_cache.search(query.lower(), \"cache:sparql:\")"
   ]
  },
  {
   "cell_type": "code",
   "execution_count": 10,
   "id": "2cd485da-1a57-45b9-b48c-4d9ac268067b",
   "metadata": {
    "tags": []
   },
   "outputs": [
    {
     "name": "stderr",
     "output_type": "stream",
     "text": [
      "\u001b[32m2025-04-27 13:00:21.549\u001b[0m | \u001b[1mINFO    \u001b[0m | \u001b[36mcaches.query_cache\u001b[0m:\u001b[36msave\u001b[0m:\u001b[36m59\u001b[0m - \u001b[1mCache query successfully\u001b[0m\n"
     ]
    }
   ],
   "source": [
    "import time\n",
    "result = {\n",
    "    \"success\": True,\n",
    "    \"execution_time\": 0,\n",
    "    \"endpoint\": \"test\",\n",
    "    \"query_size\": len(query),\n",
    "    \"timestamp\": time.strftime(\"%Y-%m-%d %H:%M:%S\"),\n",
    "    \"results\": {\n",
    "        \"format\": \"unknown\",\n",
    "        \"data\": \"test\",\n",
    "        \"info\": \"Raw results\"\n",
    "    }\n",
    "}\n",
    "\n",
    "sparql_cache.save(query, \"cache:sparql:\", result)"
   ]
  },
  {
   "cell_type": "code",
   "execution_count": 11,
   "id": "6dd436b4-fd9a-4811-a25f-70017c83e347",
   "metadata": {
    "tags": []
   },
   "outputs": [
    {
     "name": "stderr",
     "output_type": "stream",
     "text": [
      "\u001b[32m2025-04-27 13:00:21.841\u001b[0m | \u001b[1mINFO    \u001b[0m | \u001b[36mcaches.query_cache\u001b[0m:\u001b[36msearch\u001b[0m:\u001b[36m39\u001b[0m - \u001b[1mRedis cache hit\u001b[0m\n"
     ]
    },
    {
     "data": {
      "text/plain": [
       "{'success': True,\n",
       " 'execution_time': 0,\n",
       " 'endpoint': 'test',\n",
       " 'query_size': 340,\n",
       " 'timestamp': '2025-04-27 13:00:21',\n",
       " 'results': {'format': 'unknown', 'data': 'test', 'info': 'Raw results'}}"
      ]
     },
     "execution_count": 11,
     "metadata": {},
     "output_type": "execute_result"
    }
   ],
   "source": [
    "sparql_cache.search(query.lower(), \"cache:sparql:\")"
   ]
  },
  {
   "cell_type": "code",
   "execution_count": 12,
   "id": "4bbac6f1-6e6d-46ce-8fa8-5b75d3d0d60d",
   "metadata": {
    "tags": []
   },
   "outputs": [
    {
     "name": "stdout",
     "output_type": "stream",
     "text": [
      "2025-04-27 13:00:22,919 | \u001b[32mINFO\u001b[0m | nl-to-sparql | Logging initialized: console=INFO, file=DEBUG\n"
     ]
    }
   ],
   "source": [
    "from agents.query_execution import QueryExecutionAgent"
   ]
  },
  {
   "cell_type": "code",
   "execution_count": 13,
   "id": "1b0b2587-aabb-4582-a25a-8a6c746a311f",
   "metadata": {
    "tags": []
   },
   "outputs": [],
   "source": [
    "agent = QueryExecutionAgent(\n",
    "    redis_host=\"172.26.33.23\",\n",
    "    redis_port=6379,\n",
    "    redis_ttl=15*60\n",
    ")"
   ]
  },
  {
   "cell_type": "code",
   "execution_count": 14,
   "id": "18ead84d-e932-41d6-a2b2-70d5a6a2f2e4",
   "metadata": {
    "tags": []
   },
   "outputs": [
    {
     "name": "stderr",
     "output_type": "stream",
     "text": [
      "\u001b[32m2025-04-27 13:00:23.783\u001b[0m | \u001b[1mINFO    \u001b[0m | \u001b[36mcaches.query_cache\u001b[0m:\u001b[36msearch\u001b[0m:\u001b[36m39\u001b[0m - \u001b[1mRedis cache hit\u001b[0m\n"
     ]
    },
    {
     "data": {
      "text/plain": [
       "{'success': True,\n",
       " 'execution_time': 0,\n",
       " 'endpoint': 'test',\n",
       " 'query_size': 340,\n",
       " 'timestamp': '2025-04-27 13:00:21',\n",
       " 'results': {'format': 'unknown', 'data': 'test', 'info': 'Raw results'}}"
      ]
     },
     "execution_count": 14,
     "metadata": {},
     "output_type": "execute_result"
    }
   ],
   "source": [
    "agent.execute_query(\n",
    "    sparql_query=query\n",
    ")"
   ]
  },
  {
   "cell_type": "code",
   "execution_count": 15,
   "id": "89391b74-875f-45d1-bffe-4c3f07ae86c0",
   "metadata": {
    "tags": []
   },
   "outputs": [
    {
     "name": "stdout",
     "output_type": "stream",
     "text": [
      "2025-04-27 13:00:25,369 | \u001b[32mINFO\u001b[0m | numexpr.utils | Note: NumExpr detected 48 cores but \"NUMEXPR_MAX_THREADS\" not set, so enforcing safe limit of 8.\n",
      "2025-04-27 13:00:25,370 | \u001b[32mINFO\u001b[0m | numexpr.utils | NumExpr defaulting to 8 threads.\n"
     ]
    },
    {
     "ename": "ModuleNotFoundError",
     "evalue": "No module named 'config.agent_config'",
     "output_type": "error",
     "traceback": [
      "\u001b[0;31m---------------------------------------------------------------------------\u001b[0m",
      "\u001b[0;31mModuleNotFoundError\u001b[0m                       Traceback (most recent call last)",
      "Cell \u001b[0;32mIn[15], line 1\u001b[0m\n\u001b[0;32m----> 1\u001b[0m \u001b[38;5;28;01mfrom\u001b[39;00m \u001b[38;5;21;01magents\u001b[39;00m\u001b[38;5;21;01m.\u001b[39;00m\u001b[38;5;21;01msparql_construction\u001b[39;00m \u001b[38;5;28;01mimport\u001b[39;00m SPARQLConstructionAgent\n",
      "File \u001b[0;32m/data/minhdq1/2025/master_projects/Multi-Agents-NL2SPARQL/agents/sparql_construction.py:7\u001b[0m\n\u001b[1;32m      3\u001b[0m \u001b[38;5;28;01mfrom\u001b[39;00m \u001b[38;5;21;01mtyping\u001b[39;00m \u001b[38;5;28;01mimport\u001b[39;00m Any, Dict, List, Optional\n\u001b[1;32m      5\u001b[0m \u001b[38;5;28;01mimport\u001b[39;00m \u001b[38;5;21;01mautogen\u001b[39;00m\n\u001b[0;32m----> 7\u001b[0m \u001b[38;5;28;01mfrom\u001b[39;00m \u001b[38;5;21;01mconfig\u001b[39;00m\u001b[38;5;21;01m.\u001b[39;00m\u001b[38;5;21;01magent_config\u001b[39;00m \u001b[38;5;28;01mimport\u001b[39;00m get_agent_config\n\u001b[1;32m      8\u001b[0m \u001b[38;5;28;01mfrom\u001b[39;00m \u001b[38;5;21;01mcaches\u001b[39;00m\u001b[38;5;21;01m.\u001b[39;00m\u001b[38;5;21;01mquery_cache\u001b[39;00m \u001b[38;5;28;01mimport\u001b[39;00m ConstructionQueryCache\n\u001b[1;32m     11\u001b[0m \u001b[38;5;28;01mclass\u001b[39;00m \u001b[38;5;21;01mSPARQLConstructionAgent\u001b[39;00m:\n",
      "\u001b[0;31mModuleNotFoundError\u001b[0m: No module named 'config.agent_config'"
     ]
    }
   ],
   "source": [
    "from agents.sparql_construction import SPARQLConstructionAgent"
   ]
  },
  {
   "cell_type": "code",
   "execution_count": null,
   "id": "e5e05678-c6f1-46dc-9172-36229de8da34",
   "metadata": {},
   "outputs": [],
   "source": []
  }
 ],
 "metadata": {
  "kernelspec": {
   "display_name": "Python 3 (ipykernel)",
   "language": "python",
   "name": "python3"
  },
  "language_info": {
   "codemirror_mode": {
    "name": "ipython",
    "version": 3
   },
   "file_extension": ".py",
   "mimetype": "text/x-python",
   "name": "python",
   "nbconvert_exporter": "python",
   "pygments_lexer": "ipython3",
   "version": "3.8.5"
  }
 },
 "nbformat": 4,
 "nbformat_minor": 5
}
