{
 "cells": [
  {
   "cell_type": "code",
   "execution_count": 1,
   "id": "00dc5924-3ee1-4218-9f46-d624df50b52d",
   "metadata": {},
   "outputs": [],
   "source": [
    "from dotenv import load_dotenv\n",
    "import os\n",
    "import sys\n",
    "sys.path.append(\"..\")"
   ]
  },
  {
   "cell_type": "code",
   "execution_count": 2,
   "id": "6b6d0843-f896-40db-b3e4-171d24b99eb5",
   "metadata": {},
   "outputs": [
    {
     "data": {
      "text/plain": [
       "True"
      ]
     },
     "execution_count": 2,
     "metadata": {},
     "output_type": "execute_result"
    }
   ],
   "source": [
    "load_dotenv()"
   ]
  },
  {
   "cell_type": "code",
   "execution_count": 3,
   "id": "8367151c-faf2-48c9-9cd3-f88a9fca5adb",
   "metadata": {},
   "outputs": [],
   "source": [
    "from langchain_openai import ChatOpenAI\n",
    "from langchain_core.prompts import ChatPromptTemplate\n",
    "from langchain.output_parsers import ResponseSchema\n",
    "from langchain.output_parsers import StructuredOutputParser\n",
    "from typing import List, Dict, Any, Optional\n",
    "import json"
   ]
  },
  {
   "cell_type": "code",
   "execution_count": 4,
   "id": "db68633a-007c-4e62-b016-a169374f79fa",
   "metadata": {},
   "outputs": [],
   "source": [
    "llm = ChatOpenAI(\n",
    "    model=\"gpt-4o-mini\",\n",
    "    temperature=0.\n",
    ")"
   ]
  },
  {
   "cell_type": "code",
   "execution_count": 21,
   "id": "283aa9dd-59e9-419d-818f-c3aa9b102251",
   "metadata": {},
   "outputs": [],
   "source": [
    "from langchain_core.prompts import ChatPromptTemplate\n",
    "\n",
    "# Định nghĩa prompt template với rõ vai trò system và user\n",
    "prompt = ChatPromptTemplate.from_messages([\n",
    "    (\"system\", \n",
    "     \"\"\"You are a professional developer with experience in writing SPARQL for ontology file. Your task is to validate the provided plan to transform natural provided user query to SPARQL is valid. Please follow the instruction below:\n",
    "     - Check each step is correct. If not correct, provide how to improve in short for each step\n",
    "     - Check if the plan can answer the user query.\n",
    "     - If plan is valid, the output is {{\"is_valid\": True, \"feedback\": []}}\n",
    "     The output format must be following this format:\n",
    "     {{\"is_valid\": True or False, \"feedback\": [\n",
    "        {{\"step\": \"step query\", \"feedback\": \"feedback\"}}\n",
    "     ]}}\"\"\"\n",
    "    ),\n",
    "    (\"user\", \"\"\"**User query:**{user_query}, **Plan**:{plan}\"\"\")\n",
    "])\n",
    "\n",
    "# Định nghĩa input\n",
    "user_query = \"Vua Quang Trung mất ngày nào\"\n",
    "\n",
    "# Format ra danh sách message\n",
    "messages = prompt.format_messages(user_query=user_query, plan=str([{\"step\": \"Find the death date of Vua Quang Trung\", \"sparql_type\": \"SELECT\", \"level\": \"simple\"}]))"
   ]
  },
  {
   "cell_type": "code",
   "execution_count": 22,
   "id": "380ece27-93f5-408b-bb20-dbda7c23a98c",
   "metadata": {},
   "outputs": [],
   "source": [
    "ans = llm.invoke(messages)"
   ]
  },
  {
   "cell_type": "code",
   "execution_count": 23,
   "id": "2e57ec39-19a2-4367-8c0e-4d88574d182d",
   "metadata": {},
   "outputs": [
    {
     "data": {
      "text/plain": [
       "'{\"is_valid\": True, \"feedback\": []}'"
      ]
     },
     "execution_count": 23,
     "metadata": {},
     "output_type": "execute_result"
    }
   ],
   "source": [
    "ans.content"
   ]
  },
  {
   "cell_type": "code",
   "execution_count": 53,
   "id": "98e695ea-ef6c-47a2-8266-4e2381d8bc34",
   "metadata": {},
   "outputs": [],
   "source": [
    "class ValidationAgent:\n",
    "    \"\"\"\n",
    "    Slave agent responsible for validating execution plans.\n",
    "    Validates that the planning agent's decision to use or not use\n",
    "    specific SPARQL queries is logical and not a hallucination.\n",
    "    \"\"\"\n",
    "    def __init__(self):\n",
    "        \"\"\"\n",
    "        Initialize the validation agent\n",
    "        \"\"\"\n",
    "        self.agent = ChatOpenAI(\n",
    "            model=\"gpt-4o-mini\",\n",
    "            temperature=0.\n",
    "        )\n",
    "\n",
    "        self.num_retry = 1\n",
    "\n",
    "    def validate_plan(\n",
    "        self,\n",
    "        execution_plan: Dict[str, Any],\n",
    "        query_context: Dict[str, Any]\n",
    "    ) -> Dict[str, Any]:\n",
    "        \"\"\"\n",
    "        Validate an execution plan for logical errors or hallucinations.\n",
    "        \n",
    "        Args:\n",
    "            execution_plan: The execution plan to validate\n",
    "            query_context: Context of the original query including entities\n",
    "            \n",
    "        Returns:\n",
    "            Validation result with is_valid flag and feedback\n",
    "        \"\"\"\n",
    "        for i in range(self.num_retry):\n",
    "            try:\n",
    "                if not execution_plan or not isinstance(execution_plan, dict):\n",
    "                    return {\n",
    "                        \"is_valid\": False,\n",
    "                        \"validation_type\": \"structure\",\n",
    "                        \"feedback\": \"Invalid plan format: Plan is empty or not a dict.\"\n",
    "                    }\n",
    "        \n",
    "                plan = execution_plan.get(\"steps\", [])\n",
    "                prompt = self._prepare_validation_prompt(query_context[\"user_query\"], plan)\n",
    "                validation_ans = self.agent.invoke(prompt)\n",
    "                validation_ans = json.loads(validation_ans.content)\n",
    "                break\n",
    "            except Exception as e:\n",
    "                print(e, validation_ans.content)\n",
    "                validation_ans = {\n",
    "                    \"is_valid\": False,\n",
    "                    \"validation_type\": \"structure\",\n",
    "                    \"feedback\": \"Invalid plan format: Plan is empty or not a list.\"\n",
    "                }\n",
    "                continue\n",
    "\n",
    "        return validation_ans\n",
    "\n",
    "    def _prepare_validation_prompt(self, user_query, plan):\n",
    "        if len(plan) <= 0:\n",
    "            return self._prepare_no_steps_validation_prompt(user_query)\n",
    "        else:\n",
    "            return self._prepare_steps_validation_prompt(user_query, plan)\n",
    "\n",
    "    def _prepare_steps_validation_prompt(self, user_query, plan):\n",
    "        prompt = ChatPromptTemplate.from_messages([\n",
    "            (\"system\", \n",
    "             \"\"\"You are a professional developer with experience in writing SPARQL for ontology file. Your task is to validate the provided plan to transform natural provided user query to SPARQL is valid. Please follow the instruction below:\n",
    "             - Check each step is correct. If not correct, provide how to improve in short for each step\n",
    "             - Check if the plan can answer the user query.\n",
    "             - If plan is valid, the output is {{\"is_valid\": true, \"feedback\": []}}\n",
    "             The output format must be following this format:\n",
    "             {{\"is_valid\": true or false, \"feedback\": [\n",
    "                {{\"step\": \"step query\", \"feedback\": \"feedback\"}}\n",
    "             ]}}\"\"\"\n",
    "            ),\n",
    "            (\"user\", \"\"\"**User query:**{user_query}, **Plan**:{plan}\"\"\")\n",
    "        ])\n",
    "        return prompt.format_messages(user_query=user_query, plan=str(plan))\n",
    "\n",
    "    def _prepare_no_steps_validation_prompt(self, user_query):\n",
    "        prompt = ChatPromptTemplate.from_messages([\n",
    "            (\"system\",\n",
    "             \"\"\"You are a professional developer with experience in writing SPARQL for ontology file. Your task is to check if there exists a plan to transform natural provided user query to SPARQL. Please follow the instruction below:\n",
    "             - If there exists plan, please provide some suggest for creating plan.\n",
    "             - If there not exists plan, the output is {{\"is_valid\": true, \"feedback\": \"\"}}\n",
    "             The output format must be following this format:\n",
    "             {{\"is_valid\": true or false, \"feedback\": \"Some suggestion\"}}\n",
    "             \"\"\"   \n",
    "            ),\n",
    "            (\"user\", \"{user_query}\")\n",
    "        ])\n",
    "        return prompt.format_messages(user_query=user_query)"
   ]
  },
  {
   "cell_type": "code",
   "execution_count": 54,
   "id": "ca78e35a-1957-4267-8804-1e3c2d1f3f09",
   "metadata": {},
   "outputs": [],
   "source": [
    "validation_agent = ValidationAgent()"
   ]
  },
  {
   "cell_type": "code",
   "execution_count": 55,
   "id": "23c8822d-d1cb-4998-85a0-9a08a502a9f8",
   "metadata": {},
   "outputs": [
    {
     "data": {
      "text/plain": [
       "{'is_valid': True, 'feedback': []}"
      ]
     },
     "execution_count": 55,
     "metadata": {},
     "output_type": "execute_result"
    }
   ],
   "source": [
    "validation_agent.validate_plan(\n",
    "    execution_plan={\n",
    "        \"steps\": [{\"step\": \"Find the death date of Vua Quang Trung\", \"sparql_type\": \"SELECT\", \"level\": \"simple\"}]\n",
    "    },\n",
    "    query_context={\n",
    "        \"user_query\": \"Vua Quang Trung mất ngày nào\"\n",
    "    }\n",
    ")"
   ]
  },
  {
   "cell_type": "code",
   "execution_count": null,
   "id": "5b066d73-f6b5-48b4-88ce-b96405bac4bd",
   "metadata": {},
   "outputs": [],
   "source": []
  }
 ],
 "metadata": {
  "kernelspec": {
   "display_name": "Python 3 (ipykernel)",
   "language": "python",
   "name": "python3"
  },
  "language_info": {
   "codemirror_mode": {
    "name": "ipython",
    "version": 3
   },
   "file_extension": ".py",
   "mimetype": "text/x-python",
   "name": "python",
   "nbconvert_exporter": "python",
   "pygments_lexer": "ipython3",
   "version": "3.9.7"
  }
 },
 "nbformat": 4,
 "nbformat_minor": 5
}
