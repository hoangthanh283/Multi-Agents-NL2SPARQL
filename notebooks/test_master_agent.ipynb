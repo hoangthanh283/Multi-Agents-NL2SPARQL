{
 "cells": [
  {
   "cell_type": "code",
   "execution_count": 1,
   "id": "c6f59ea8-7048-427c-88b4-372ade2a9bc3",
   "metadata": {},
   "outputs": [],
   "source": [
    "import warnings\n",
    "warnings.filterwarnings(\"ignore\")\n",
    "\n",
    "from dotenv import load_dotenv\n",
    "load_dotenv()\n",
    "import os\n",
    "import sys\n",
    "sys.path.append(\"..\")\n",
    "os.environ[\"AUTOGEN_USE_DOCKER\"] = \"False\"\n",
    "import time"
   ]
  },
  {
   "cell_type": "code",
   "execution_count": null,
   "id": "38e51849-1a56-42d0-b7dc-3eaaaf499aaa",
   "metadata": {},
   "outputs": [],
   "source": [
    "from agents.langchian_master_agent import MasterAgent"
   ]
  },
  {
   "cell_type": "code",
   "execution_count": 3,
   "id": "49b88561-2bae-4bad-816b-165cc97f47ae",
   "metadata": {},
   "outputs": [],
   "source": [
    "master_agent = MasterAgent()"
   ]
  },
  {
   "cell_type": "code",
   "execution_count": null,
   "id": "e2e12d15-8867-4862-bac6-f47143979aa9",
   "metadata": {},
   "outputs": [
    {
     "name": "stdout",
     "output_type": "stream",
     "text": [
      "2025-04-18 01:51:21,247 | \u001b[32mINFO\u001b[0m | nl-to-sparql | Logging initialized: console=INFO, file=DEBUG\n"
     ]
    }
   ],
   "source": [
    "from agents.entity_recognition import EntityRecognitionAgent\n",
    "from agents.query_refinement import QueryRefinementAgent\n",
    "from models.embeddings import BiEncoderModel, CrossEncoderModel\n",
    "from models.entity_recognition import GLiNERModel\n",
    "from database.qdrant_client import QdrantClient\n",
    "from database.qdrant_client import QdrantClient"
   ]
  },
  {
   "cell_type": "code",
   "execution_count": 5,
   "id": "6beadf8a-63c7-47c1-bfab-e420b3c503e4",
   "metadata": {},
   "outputs": [],
   "source": [
    "from agents.plan_formulation_2 import PlanFormulationAgent\n",
    "from agents.validation_2 import ValidationAgent\n",
    "from agents.response_generation_2 import ResponseGenerationAgent"
   ]
  },
  {
   "cell_type": "code",
   "execution_count": 6,
   "id": "8ba7058d-d35b-4d2a-8126-ca3cbc0485b3",
   "metadata": {},
   "outputs": [
    {
     "name": "stdout",
     "output_type": "stream",
     "text": [
      "2025-04-18 01:51:22,370 | \u001b[32mINFO\u001b[0m | sentence_transformers.SentenceTransformer | Use pytorch device_name: cuda:0\n",
      "2025-04-18 01:51:22,371 | \u001b[32mINFO\u001b[0m | sentence_transformers.SentenceTransformer | Load pretrained SentenceTransformer: sentence-transformers/all-MiniLM-L6-v2\n",
      "2025-04-18 01:51:30,610 | \u001b[32mINFO\u001b[0m | sentence_transformers.cross_encoder.CrossEncoder | Use pytorch device: cuda:0\n"
     ]
    },
    {
     "name": "stderr",
     "output_type": "stream",
     "text": [
      "Fetching 5 files: 100%|████████████████████████████████████████████████████████████████████████████████████████████████████████████████████████████████████████████████████████████████████████████| 5/5 [00:00<00:00, 26181.67it/s]\n"
     ]
    },
    {
     "name": "stdout",
     "output_type": "stream",
     "text": [
      "Loaded GLiNER model on cuda\n"
     ]
    }
   ],
   "source": [
    "bi_encoder = BiEncoderModel(\n",
    "        model_name_or_path=\"sentence-transformers/all-MiniLM-L6-v2\"\n",
    "    )\n",
    "    \n",
    "# Initialize Cross-Encoder for reranking\n",
    "cross_encoder = CrossEncoderModel(\n",
    "    model_name_or_path=\"cross-encoder/ms-marco-MiniLM-L-6-v2\"\n",
    ")\n",
    "\n",
    "# Initialize entity recognition model\n",
    "entity_recognition_model = GLiNERModel(\n",
    "    model_name_or_path=\"urchade/gliner_medium-v2.1\"\n",
    ")"
   ]
  },
  {
   "cell_type": "code",
   "execution_count": 7,
   "id": "5c7f05fb-062c-4ae3-a237-882c5aaccebd",
   "metadata": {},
   "outputs": [
    {
     "name": "stdout",
     "output_type": "stream",
     "text": [
      "2025-04-18 01:51:42,154 | \u001b[32mINFO\u001b[0m | sentence_transformers.SentenceTransformer | Use pytorch device_name: cuda:0\n",
      "2025-04-18 01:51:42,155 | \u001b[32mINFO\u001b[0m | sentence_transformers.SentenceTransformer | Load pretrained SentenceTransformer: all-MiniLM-L6-v2\n",
      "2025-04-18 01:51:45,041 | \u001b[32mINFO\u001b[0m | httpx | HTTP Request: GET http://172.26.33.199:2513 \"HTTP/1.1 200 OK\"\n"
     ]
    }
   ],
   "source": [
    "qdrant_client = QdrantClient(url=os.getenv(\"QDRANT_URL\"))\n",
    "query_refinement_agent = QueryRefinementAgent(\n",
    "    qdrant_client=qdrant_client,\n",
    "    embedding_model=bi_encoder\n",
    ")\n",
    "\n",
    "entity_recognition_agent = EntityRecognitionAgent(\n",
    "    entity_recognition_model=entity_recognition_model, \n",
    "    ontology_store=None\n",
    ")"
   ]
  },
  {
   "cell_type": "code",
   "execution_count": 8,
   "id": "a7cc2415-d854-4783-b9af-e61df93d5414",
   "metadata": {},
   "outputs": [
    {
     "name": "stdout",
     "output_type": "stream",
     "text": [
      "2025-04-18 01:51:45,398 | \u001b[32mINFO\u001b[0m | sentence_transformers.SentenceTransformer | Use pytorch device_name: cuda:0\n",
      "2025-04-18 01:51:45,400 | \u001b[32mINFO\u001b[0m | sentence_transformers.SentenceTransformer | Load pretrained SentenceTransformer: all-MiniLM-L6-v2\n",
      "2025-04-18 01:51:48,490 | \u001b[32mINFO\u001b[0m | httpx | HTTP Request: GET http://172.26.33.199:2513 \"HTTP/1.1 200 OK\"\n"
     ]
    }
   ],
   "source": [
    "plan_formulation_agent = PlanFormulationAgent()\n",
    "validation_agent = ValidationAgent()\n",
    "response_generation_agent = ResponseGenerationAgent()"
   ]
  },
  {
   "cell_type": "code",
   "execution_count": 9,
   "id": "564042dc-e43b-4fc5-9b2a-08fa77b8ac99",
   "metadata": {},
   "outputs": [],
   "source": [
    "master_agent.register_slave_agent(\"query_refinement\", query_refinement_agent)\n",
    "master_agent.register_slave_agent(\"entity_recognition\", entity_recognition_agent)\n",
    "master_agent.register_slave_agent(\"plan_formulation\", plan_formulation_agent)\n",
    "master_agent.register_slave_agent(\"validation\", validation_agent)\n",
    "master_agent.register_slave_agent(\"response_generation\", response_generation_agent)"
   ]
  },
  {
   "cell_type": "code",
   "execution_count": 10,
   "id": "2a15a04c-83e0-4f6f-bb1e-bc5f563cb482",
   "metadata": {},
   "outputs": [
    {
     "name": "stderr",
     "output_type": "stream",
     "text": [
      "\u001b[32m2025-04-18 01:51:48.515\u001b[0m | \u001b[1mINFO    \u001b[0m | \u001b[36magents.master_agent_2\u001b[0m:\u001b[36mprocess_query\u001b[0m:\u001b[36m53\u001b[0m - \u001b[1mProcessing query: What is the duration of Trieu Dynasty?\u001b[0m\n",
      "Batches: 100%|████████████████████████████████████████████████████████████████████████████████████████████████████████████████████████████████████████████████████████████████████████████████████████| 1/1 [00:00<00:00,  3.74it/s]"
     ]
    },
    {
     "name": "stdout",
     "output_type": "stream",
     "text": [
      "2025-04-18 01:51:48,801 | \u001b[32mINFO\u001b[0m | httpx | HTTP Request: POST http://172.26.33.199:2513/collections/refinement_examples/points/query \"HTTP/1.1 200 OK\"\n",
      "\u001b[33mQueryRefinementProxy\u001b[0m (to QueryRefinementAgent):\n",
      "\n",
      "I need you to refine the following user query about a knowledge graph or ontology into a clear, standalone question.\n",
      "Use the conversation history to fill in any missing context, resolve references, \n",
      "and make sure the query is complete and unambiguous.\n",
      "\n",
      "Current Conversation History:\n",
      "\n",
      "\n",
      "User Query: What is the duration of Trieu Dynasty?\n",
      "\n",
      "Similar Examples of Query Refinement:\n",
      "\n",
      "\n",
      "Please provide the refined query as a standalone question. \n",
      "Do not include explanations or additional text, just the refined query.\n",
      "Ensure the refined query would make sense even without the conversation history.\n",
      "Include specific entity names whenever they're referenced directly or indirectly.\n",
      "\n",
      "\n",
      "--------------------------------------------------------------------------------\n",
      "\u001b[33mQueryRefinementAgent\u001b[0m (to QueryRefinementProxy):\n",
      "\n",
      "What is the duration of the Trieu Dynasty in history?\n",
      "\n",
      "--------------------------------------------------------------------------------\n",
      "\u001b[31m\n",
      ">>>>>>>> TERMINATING RUN (0387274b-ed7a-46da-86c4-5f47d30b1733): Termination message condition on agent 'QueryRefinementProxy' met\u001b[0m\n"
     ]
    },
    {
     "name": "stderr",
     "output_type": "stream",
     "text": [
      "\n",
      "\u001b[32m2025-04-18 01:51:48.834\u001b[0m | \u001b[1mINFO    \u001b[0m | \u001b[36magents.master_agent_2\u001b[0m:\u001b[36mprocess_query\u001b[0m:\u001b[36m60\u001b[0m - \u001b[1mRefined query: What is the duration of the Trieu Dynasty in history?\u001b[0m\n",
      "Asking to truncate to max_length but no maximum length is provided and the model has no predefined maximum length. Default to no truncation.\n",
      "\u001b[32m2025-04-18 01:51:49.209\u001b[0m | \u001b[1mINFO    \u001b[0m | \u001b[36magents.master_agent_2\u001b[0m:\u001b[36mprocess_query\u001b[0m:\u001b[36m67\u001b[0m - \u001b[1mRecognized 2 entities\u001b[0m\n",
      "\u001b[32m2025-04-18 01:51:49.211\u001b[0m | \u001b[1mINFO    \u001b[0m | \u001b[36magents.master_agent_2\u001b[0m:\u001b[36mprocess_query\u001b[0m:\u001b[36m80\u001b[0m - \u001b[1mMapped entities to ontology terms\u001b[0m\n"
     ]
    },
    {
     "name": "stdout",
     "output_type": "stream",
     "text": [
      "2025-04-18 01:51:51,333 | \u001b[32mINFO\u001b[0m | httpx | HTTP Request: POST https://api.openai.com/v1/chat/completions \"HTTP/1.1 200 OK\"\n"
     ]
    },
    {
     "name": "stderr",
     "output_type": "stream",
     "text": [
      "\u001b[32m2025-04-18 01:51:51.353\u001b[0m | \u001b[1mINFO    \u001b[0m | \u001b[36magents.master_agent_2\u001b[0m:\u001b[36mprocess_query\u001b[0m:\u001b[36m85\u001b[0m - \u001b[1mCreate plan for SPARQL query successfully: [{'step': 'Find the start date of the Trieu Dynasty', 'sparql_type': 'SELECT', 'level': 'simple'}, {'step': 'Find the end date of the Trieu Dynasty', 'sparql_type': 'SELECT', 'level': 'simple'}, {'step': 'Compute the duration of the Trieu Dynasty using the start and end dates', 'sparql_type': 'SELECT', 'level': 'complex'}]\u001b[0m\n"
     ]
    },
    {
     "name": "stdout",
     "output_type": "stream",
     "text": [
      "2025-04-18 01:51:54,659 | \u001b[32mINFO\u001b[0m | httpx | HTTP Request: POST https://api.openai.com/v1/chat/completions \"HTTP/1.1 200 OK\"\n"
     ]
    },
    {
     "name": "stderr",
     "output_type": "stream",
     "text": [
      "\u001b[32m2025-04-18 01:51:54.663\u001b[0m | \u001b[1mINFO    \u001b[0m | \u001b[36magents.master_agent_2\u001b[0m:\u001b[36mprocess_query\u001b[0m:\u001b[36m90\u001b[0m - \u001b[1mValidation result: {'is_valid': False, 'feedback': [{'step': 'Find the start date of the Trieu Dynasty', 'feedback': 'This step is correct, but ensure the SPARQL query retrieves the correct property for the start date.'}, {'step': 'Find the end date of the Trieu Dynasty', 'feedback': 'This step is also correct, but ensure the SPARQL query retrieves the correct property for the end date.'}, {'step': 'Compute the duration of the Trieu Dynasty using the start and end dates', 'feedback': 'This step is valid, but it should be noted that SPARQL can directly compute the duration in the SELECT query if the start and end dates are retrieved in the same query.'}]}\u001b[0m\n"
     ]
    },
    {
     "name": "stdout",
     "output_type": "stream",
     "text": [
      "2025-04-18 01:51:57,109 | \u001b[32mINFO\u001b[0m | httpx | HTTP Request: POST https://api.openai.com/v1/chat/completions \"HTTP/1.1 200 OK\"\n"
     ]
    },
    {
     "name": "stderr",
     "output_type": "stream",
     "text": [
      "\u001b[32m2025-04-18 01:51:57.114\u001b[0m | \u001b[1mINFO    \u001b[0m | \u001b[36magents.master_agent_2\u001b[0m:\u001b[36mprocess_query\u001b[0m:\u001b[36m96\u001b[0m - \u001b[1mFixed plan successfully: [{'step': 'Find the start date of the Trieu Dynasty in history', 'sparql_type': 'SELECT', 'level': 'simple'}, {'step': 'Find the end date of the Trieu Dynasty in history', 'sparql_type': 'SELECT', 'level': 'simple'}, {'step': 'Calculate the duration of the Trieu Dynasty using the start and end dates', 'sparql_type': 'SELECT', 'level': 'complex'}]\u001b[0m\n"
     ]
    },
    {
     "name": "stdout",
     "output_type": "stream",
     "text": [
      "2025-04-18 01:52:00,093 | \u001b[32mINFO\u001b[0m | httpx | HTTP Request: POST https://api.openai.com/v1/chat/completions \"HTTP/1.1 200 OK\"\n"
     ]
    },
    {
     "name": "stderr",
     "output_type": "stream",
     "text": [
      "\u001b[32m2025-04-18 01:52:00.097\u001b[0m | \u001b[1mINFO    \u001b[0m | \u001b[36magents.master_agent_2\u001b[0m:\u001b[36mprocess_query\u001b[0m:\u001b[36m99\u001b[0m - \u001b[1mValidation result: {'is_valid': False, 'feedback': [{'step': 'Find the start date of the Trieu Dynasty in history', 'feedback': 'This step is correct, but ensure the SPARQL query retrieves the correct property for the start date.'}, {'step': 'Find the end date of the Trieu Dynasty in history', 'feedback': 'This step is also correct, but ensure the SPARQL query retrieves the correct property for the end date.'}, {'step': 'Calculate the duration of the Trieu Dynasty using the start and end dates', 'feedback': 'This step is valid, but it should be noted that SPARQL can perform calculations directly in the SELECT query, so consider integrating this calculation into the previous steps to streamline the query.'}]}\u001b[0m\n",
      "\u001b[32m2025-04-18 01:52:00.098\u001b[0m | \u001b[1mINFO    \u001b[0m | \u001b[36magents.master_agent_2\u001b[0m:\u001b[36mprocess_query\u001b[0m:\u001b[36m108\u001b[0m - \u001b[1mGenerated error response due to validation failure\u001b[0m\n"
     ]
    }
   ],
   "source": [
    "result = master_agent.process_query(\n",
    "    \"What is the duration of Trieu Dynasty?\",\n",
    "    []\n",
    ")"
   ]
  },
  {
   "cell_type": "code",
   "execution_count": 11,
   "id": "5230d07d-5ebf-4b24-be86-73f8247a09b5",
   "metadata": {},
   "outputs": [
    {
     "data": {
      "text/plain": [
       "\"I'm sorry, but I couldn't create a valid SPARQL query for your question. [{'step': 'Find the start date of the Trieu Dynasty in history', 'feedback': 'This step is correct, but ensure the SPARQL query retrieves the correct property for the start date.'}, {'step': 'Find the end date of the Trieu Dynasty in history', 'feedback': 'This step is also correct, but ensure the SPARQL query retrieves the correct property for the end date.'}, {'step': 'Calculate the duration of the Trieu Dynasty using the start and end dates', 'feedback': 'This step is valid, but it should be noted that SPARQL can perform calculations directly in the SELECT query, so consider integrating this calculation into the previous steps to streamline the query.'}]\""
      ]
     },
     "execution_count": 11,
     "metadata": {},
     "output_type": "execute_result"
    }
   ],
   "source": [
    "result[\"response\"]"
   ]
  },
  {
   "cell_type": "code",
   "execution_count": 12,
   "id": "38ab00f0-d323-4796-a558-963997632206",
   "metadata": {},
   "outputs": [
    {
     "ename": "SyntaxError",
     "evalue": "unmatched ']' (68424690.py, line 5)",
     "output_type": "error",
     "traceback": [
      "\u001b[0;36m  Cell \u001b[0;32mIn[12], line 5\u001b[0;36m\u001b[0m\n\u001b[0;31m    'step': 'Compute the duration of the Trieu Dynasty using the start and end dates'}]}\u001b[0m\n\u001b[0m                                                                                      ^\u001b[0m\n\u001b[0;31mSyntaxError\u001b[0m\u001b[0;31m:\u001b[0m unmatched ']'\n"
     ]
    }
   ],
   "source": [
    "What is the end date of Trieu Dynasty?\n",
    "What is the start date of Trieu Dynasty?\n",
    "What is the duration of Trieu Dynasty?\n",
    "{'query': 'SELECT (xsd:integer(STR(?endYear)) - xsd:integer(STR(?startYear)) AS ?duration) WHERE { <https://CHeVIE.vn/ontologies/TrieuRulingDynastyStartDateDescription> <http://www.w3.org/2006/time#year> ?startYear . <https://CHeVIE.vn/ontologies/TrieuRulingDynastyEndDateDescription> <http://www.w3.org/2006/time#year> ?endYear . }',\n",
    "   'step': 'Compute the duration of the Trieu Dynasty using the start and end dates'}]}"
   ]
  },
  {
   "cell_type": "code",
   "execution_count": null,
   "id": "24ce4556-cfe4-4dda-8b55-bf3896fbe0ce",
   "metadata": {},
   "outputs": [],
   "source": []
  }
 ],
 "metadata": {
  "kernelspec": {
   "display_name": "Python 3 (ipykernel)",
   "language": "python",
   "name": "python3"
  },
  "language_info": {
   "codemirror_mode": {
    "name": "ipython",
    "version": 3
   },
   "file_extension": ".py",
   "mimetype": "text/x-python",
   "name": "python",
   "nbconvert_exporter": "python",
   "pygments_lexer": "ipython3",
   "version": "3.9.7"
  }
 },
 "nbformat": 4,
 "nbformat_minor": 5
}
