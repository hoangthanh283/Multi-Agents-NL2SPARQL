{
 "cells": [
  {
   "cell_type": "code",
   "execution_count": 1,
   "id": "2d536dc5-24e8-47fc-99a4-afa50f8a858a",
   "metadata": {},
   "outputs": [],
   "source": [
    "from dotenv import load_dotenv\n",
    "import os\n",
    "import sys\n",
    "sys.path.append(\"..\")"
   ]
  },
  {
   "cell_type": "code",
   "execution_count": 10,
   "id": "17f8f05a-a4af-4084-8dc9-ea613262e9a2",
   "metadata": {},
   "outputs": [],
   "source": [
    "from database.qdrant_client import QdrantClient\n",
    "from tqdm import tqdm\n",
    "from qdrant_client.models import Distance, VectorParams, PointStruct"
   ]
  },
  {
   "cell_type": "code",
   "execution_count": 3,
   "id": "22a19aa7-d781-488a-baf9-fa704cdc7187",
   "metadata": {},
   "outputs": [
    {
     "data": {
      "text/plain": [
       "True"
      ]
     },
     "execution_count": 3,
     "metadata": {},
     "output_type": "execute_result"
    }
   ],
   "source": [
    "load_dotenv()"
   ]
  },
  {
   "cell_type": "code",
   "execution_count": 6,
   "id": "228578d8-359a-47ae-a07b-04df063cbe3f",
   "metadata": {},
   "outputs": [
    {
     "name": "stdout",
     "output_type": "stream",
     "text": [
      "2025-04-16 21:30:15,593 | \u001b[32mINFO\u001b[0m | sentence_transformers.SentenceTransformer | Use pytorch device_name: cuda:0\n",
      "2025-04-16 21:30:15,595 | \u001b[32mINFO\u001b[0m | sentence_transformers.SentenceTransformer | Load pretrained SentenceTransformer: all-MiniLM-L6-v2\n",
      "2025-04-16 21:30:27,222 | \u001b[32mINFO\u001b[0m | httpx | HTTP Request: GET http://172.26.33.199:2513 \"HTTP/1.1 200 OK\"\n"
     ]
    }
   ],
   "source": [
    "qdrant_client = QdrantClient()"
   ]
  },
  {
   "cell_type": "code",
   "execution_count": 8,
   "id": "fe919cb9-6755-4916-b841-2060671d3bd2",
   "metadata": {},
   "outputs": [],
   "source": [
    "with open(\"../assets/ontologies/CHeVIE_comment.owl\", \"r\") as f:\n",
    "    data = f.read()"
   ]
  },
  {
   "cell_type": "code",
   "execution_count": 9,
   "id": "18448c7d-8c72-4d89-8416-832126a2458f",
   "metadata": {},
   "outputs": [],
   "source": [
    "code_parts = data.split(\"\\n\\n\\n\")"
   ]
  },
  {
   "cell_type": "code",
   "execution_count": 11,
   "id": "9d169f94-dc01-46a3-a02b-97eb65d9e1c8",
   "metadata": {},
   "outputs": [],
   "source": [
    "points = []\n",
    "\n",
    "for idx, code_part in tqdm(enumerate(code_parts)):\n",
    "    embedding = qdrant_client.default_model.encode(code_part)\n",
    "    point = {\n",
    "        \"id\": idx,\n",
    "        \"vector\": embedding.tolist(),\n",
    "        \"payload\": {\"code\": code_part}\n",
    "    }\n",
    "    points.append(point)"
   ]
  },
  {
   "cell_type": "code",
   "execution_count": null,
   "id": "993cd5c0-75ef-43c2-ab59-aa0edcecdede",
   "metadata": {},
   "outputs": [],
   "source": [
    "qdrant_client.upsert_points(\n",
    "    \"ontology_embedding\",\n",
    "    points\n",
    ")"
   ]
  },
  {
   "cell_type": "code",
   "execution_count": 61,
   "id": "11016eef-0754-4a5d-ad26-95ce856a9c22",
   "metadata": {},
   "outputs": [
    {
     "name": "stderr",
     "output_type": "stream",
     "text": [
      "Batches: 100%|████████████████████████████████████████████████████████████████████████████████████████████████████████████████████████████████████████████████████████████████████████████████████████| 1/1 [00:00<00:00, 34.71it/s]"
     ]
    },
    {
     "name": "stdout",
     "output_type": "stream",
     "text": [
      "2025-04-17 02:56:19,949 | \u001b[32mINFO\u001b[0m | httpx | HTTP Request: POST http://172.26.33.199:2513/collections/ontology_embedding/points/query \"HTTP/1.1 200 OK\"\n"
     ]
    },
    {
     "name": "stderr",
     "output_type": "stream",
     "text": [
      "\n"
     ]
    }
   ],
   "source": [
    "search_result = qdrant_client.client.query_points(\n",
    "    collection_name=\"ontology_embedding\", \n",
    "    query=qdrant_client.default_model.encode(\n",
    "        \"Tìm thời gian bắt đầu của triều đại Triệu?\"\n",
    "    ), limit=3\n",
    ").points"
   ]
  },
  {
   "cell_type": "code",
   "execution_count": 62,
   "id": "24c63ab9-f401-443a-8dd1-8b0197646915",
   "metadata": {},
   "outputs": [],
   "source": [
    "code = \"\"\n",
    "for res in search_result:\n",
    "    code += res.payload[\"code\"].strip() "
   ]
  },
  {
   "cell_type": "code",
   "execution_count": 63,
   "id": "03ac70d9-037c-4cd3-9d37-da901fbdd1dc",
   "metadata": {},
   "outputs": [
    {
     "data": {
      "text/plain": [
       "'<!-- https://CHeVIE.vn/ontologies/TrieuRulingDynastyStartDate -->\\n\\n    <owl:NamedIndividual rdf:about=\"https://CHeVIE.vn/ontologies/TrieuRulingDynastyStartDate\">\\n        <rdf:type rdf:resource=\"http://www.w3.org/2006/time#Instant\"/>\\n        <time:inDateTime rdf:resource=\"https://CHeVIE.vn/ontologies/TrieuRulingDynastyStartDateDescription\"/>\\n        <rdfs:label xml:lang=\"en\">Start Date of Triệu Ruling Dynasty</rdfs:label>\\n    \\t<rdfs:label xml:lang=\"vi\">Ngày bắt đầu triều đại Triệu</rdfs:label>\\n    </owl:NamedIndividual><!-- https://CHeVIE.vn/ontologies/TrieuRulingDynastyStartDateDescription -->\\n\\n    <owl:NamedIndividual rdf:about=\"https://CHeVIE.vn/ontologies/TrieuRulingDynastyStartDateDescription\">\\n        <rdf:type rdf:resource=\"http://www.w3.org/2006/time#DateTimeDescription\"/>\\n        <time:hasTRS rdf:resource=\"https://CHeVIE.vn/ontologies/GregorianCalendar\"/>\\n        <time:year rdf:datatype=\"http://www.w3.org/2001/XMLSchema#gYear\">-210</time:year>\\n        <rdfs:label xml:lang=\"en\">Start Date of Triệu Ruling Dynasty Description</rdfs:label>\\n    \\t<rdfs:label xml:lang=\"vi\">Mô tả ngày bắt đầu triều đại Triệu</rdfs:label>\\n    </owl:NamedIndividual><!-- https://CHeVIE.vn/ontologies/TrieuRulingDynastyStartDateStatement -->\\n\\n    <owl:NamedIndividual rdf:about=\"https://CHeVIE.vn/ontologies/TrieuRulingDynastyStartDateStatement\">\\n        <rdf:type rdf:resource=\"https://CHeVIE.vn/ontologies/Statement\"/>\\n        <_start rdf:resource=\"https://CHeVIE.vn/ontologies/TrieuRulingDynastyStartDate\"/>\\n        <prov:wasDerivedFrom rdf:resource=\"https://CHeVIE.vn/ontologies/TrieuRulingDynastyPeriodReference\"/>\\n        <rdfs:label xml:lang=\"en\">Statement about Start Date of Triệu Ruling Dynasty</rdfs:label>\\n    \\t<rdfs:label xml:lang=\"vi\">Tuyên bố về ngày bắt đầu triều đại Triệu</rdfs:label>\\n    </owl:NamedIndividual>'"
      ]
     },
     "execution_count": 63,
     "metadata": {},
     "output_type": "execute_result"
    }
   ],
   "source": [
    "code.strip()"
   ]
  },
  {
   "cell_type": "code",
   "execution_count": null,
   "id": "663b6cec-bcb2-42e0-bcc5-be75b006ae68",
   "metadata": {},
   "outputs": [],
   "source": []
  }
 ],
 "metadata": {
  "kernelspec": {
   "display_name": "Python 3 (ipykernel)",
   "language": "python",
   "name": "python3"
  },
  "language_info": {
   "codemirror_mode": {
    "name": "ipython",
    "version": 3
   },
   "file_extension": ".py",
   "mimetype": "text/x-python",
   "name": "python",
   "nbconvert_exporter": "python",
   "pygments_lexer": "ipython3",
   "version": "3.9.7"
  }
 },
 "nbformat": 4,
 "nbformat_minor": 5
}
